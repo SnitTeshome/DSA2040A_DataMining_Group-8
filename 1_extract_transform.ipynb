{
 "cells": [
  {
   "cell_type": "markdown",
   "id": "6278c9ca",
   "metadata": {},
   "source": [
    "## *Extract , Transform & Load – Superstore Dataset*\n",
    "\n",
    "*Author: Mohamed (ETL Lead) – Group 8*"
   ]
  },
  {
   "cell_type": "markdown",
   "id": "7705e9aa",
   "metadata": {},
   "source": [
    " ### *Importing necessary Libraries*"
   ]
  },
  {
   "cell_type": "code",
   "execution_count": 43,
   "id": "a2c94a84",
   "metadata": {},
   "outputs": [],
   "source": [
    "import pandas as pd\n",
    "import numpy as numpy\n",
    "import sqlite3\n",
    "import os"
   ]
  },
  {
   "cell_type": "markdown",
   "id": "b4a1fd3b",
   "metadata": {},
   "source": [
    "### *Defining Paths so as to make it easy to reference them*"
   ]
  },
  {
   "cell_type": "code",
   "execution_count": 59,
   "id": "6b48b1fa",
   "metadata": {},
   "outputs": [],
   "source": [
    "RAW_PATH = \"data/superstore_sales_data.csv\"\n",
    "TRANSFORMED_PATH = \"output/superstore_transformed.csv\"\n",
    "FINAL_CSV_PATH = \"output/superstore_final.csv\"\n",
    "FINAL_DB_PATH = \"output/superstore_final.db\"\n",
    "TABLE_NAME = \"superstore_sales\""
   ]
  },
  {
   "cell_type": "markdown",
   "id": "ed060acd",
   "metadata": {},
   "source": [
    "### *Extract and Inspecting Dataset*"
   ]
  },
  {
   "cell_type": "code",
   "execution_count": 53,
   "id": "1e9d4f34",
   "metadata": {},
   "outputs": [
    {
     "name": "stdout",
     "output_type": "stream",
     "text": [
      "Extracting raw data...\n"
     ]
    },
    {
     "data": {
      "application/vnd.microsoft.datawrangler.viewer.v0+json": {
       "columns": [
        {
         "name": "Row ID",
         "rawType": "int64",
         "type": "integer"
        },
        {
         "name": "Order ID",
         "rawType": "object",
         "type": "string"
        },
        {
         "name": "Order Date",
         "rawType": "object",
         "type": "string"
        },
        {
         "name": "Ship Date",
         "rawType": "object",
         "type": "string"
        },
        {
         "name": "Ship Mode",
         "rawType": "object",
         "type": "string"
        },
        {
         "name": "Customer ID",
         "rawType": "object",
         "type": "string"
        },
        {
         "name": "Customer Name",
         "rawType": "object",
         "type": "string"
        },
        {
         "name": "Segment",
         "rawType": "object",
         "type": "string"
        },
        {
         "name": "Country",
         "rawType": "object",
         "type": "string"
        },
        {
         "name": "City",
         "rawType": "object",
         "type": "string"
        },
        {
         "name": "State",
         "rawType": "object",
         "type": "string"
        },
        {
         "name": "Postal Code",
         "rawType": "int64",
         "type": "integer"
        },
        {
         "name": "Region",
         "rawType": "object",
         "type": "string"
        },
        {
         "name": "Product ID",
         "rawType": "object",
         "type": "string"
        },
        {
         "name": "Category",
         "rawType": "object",
         "type": "string"
        },
        {
         "name": "Sub-Category",
         "rawType": "object",
         "type": "string"
        },
        {
         "name": "Product Name",
         "rawType": "object",
         "type": "string"
        },
        {
         "name": "Sales",
         "rawType": "float64",
         "type": "float"
        },
        {
         "name": "Quantity",
         "rawType": "int64",
         "type": "integer"
        },
        {
         "name": "Discount",
         "rawType": "float64",
         "type": "float"
        },
        {
         "name": "Profit",
         "rawType": "float64",
         "type": "float"
        }
       ],
       "ref": "93150091-96c6-466b-a161-347746862589",
       "rows": [
        [
         "1",
         "CA-2016-152156",
         "11/8/2016",
         "11/11/2016",
         "Second Class",
         "CG-12520",
         "Claire Gute",
         "Consumer",
         "United States",
         "Henderson",
         "Kentucky",
         "42420",
         "South",
         "FUR-BO-10001798",
         "Furniture",
         "Bookcases",
         "Bush Somerset Collection Bookcase",
         "261.96",
         "2",
         "0.0",
         "41.9136"
        ],
        [
         "2",
         "CA-2016-152156",
         "11/8/2016",
         "11/11/2016",
         "Second Class",
         "CG-12520",
         "Claire Gute",
         "Consumer",
         "United States",
         "Henderson",
         "Kentucky",
         "42420",
         "South",
         "FUR-CH-10000454",
         "Furniture",
         "Chairs",
         "Hon Deluxe Fabric Upholstered Stacking Chairs, Rounded Back",
         "731.94",
         "3",
         "0.0",
         "219.582"
        ],
        [
         "3",
         "CA-2016-138688",
         "6/12/2016",
         "6/16/2016",
         "Second Class",
         "DV-13045",
         "Darrin Van Huff",
         "Corporate",
         "United States",
         "Los Angeles",
         "California",
         "90036",
         "West",
         "OFF-LA-10000240",
         "Office Supplies",
         "Labels",
         "Self-Adhesive Address Labels for Typewriters by Universal",
         "14.62",
         "2",
         "0.0",
         "6.8714"
        ],
        [
         "4",
         "US-2015-108966",
         "10/11/2015",
         "10/18/2015",
         "Standard Class",
         "SO-20335",
         "Sean O'Donnell",
         "Consumer",
         "United States",
         "Fort Lauderdale",
         "Florida",
         "33311",
         "South",
         "FUR-TA-10000577",
         "Furniture",
         "Tables",
         "Bretford CR4500 Series Slim Rectangular Table",
         "957.5775",
         "5",
         "0.45",
         "-383.031"
        ],
        [
         "5",
         "US-2015-108966",
         "10/11/2015",
         "10/18/2015",
         "Standard Class",
         "SO-20335",
         "Sean O'Donnell",
         "Consumer",
         "United States",
         "Fort Lauderdale",
         "Florida",
         "33311",
         "South",
         "OFF-ST-10000760",
         "Office Supplies",
         "Storage",
         "Eldon Fold 'N Roll Cart System",
         "22.368",
         "2",
         "0.2",
         "2.5164"
        ]
       ],
       "shape": {
        "columns": 20,
        "rows": 5
       }
      },
      "text/html": [
       "<div>\n",
       "<style scoped>\n",
       "    .dataframe tbody tr th:only-of-type {\n",
       "        vertical-align: middle;\n",
       "    }\n",
       "\n",
       "    .dataframe tbody tr th {\n",
       "        vertical-align: top;\n",
       "    }\n",
       "\n",
       "    .dataframe thead th {\n",
       "        text-align: right;\n",
       "    }\n",
       "</style>\n",
       "<table border=\"1\" class=\"dataframe\">\n",
       "  <thead>\n",
       "    <tr style=\"text-align: right;\">\n",
       "      <th></th>\n",
       "      <th>Order ID</th>\n",
       "      <th>Order Date</th>\n",
       "      <th>Ship Date</th>\n",
       "      <th>Ship Mode</th>\n",
       "      <th>Customer ID</th>\n",
       "      <th>Customer Name</th>\n",
       "      <th>Segment</th>\n",
       "      <th>Country</th>\n",
       "      <th>City</th>\n",
       "      <th>State</th>\n",
       "      <th>Postal Code</th>\n",
       "      <th>Region</th>\n",
       "      <th>Product ID</th>\n",
       "      <th>Category</th>\n",
       "      <th>Sub-Category</th>\n",
       "      <th>Product Name</th>\n",
       "      <th>Sales</th>\n",
       "      <th>Quantity</th>\n",
       "      <th>Discount</th>\n",
       "      <th>Profit</th>\n",
       "    </tr>\n",
       "    <tr>\n",
       "      <th>Row ID</th>\n",
       "      <th></th>\n",
       "      <th></th>\n",
       "      <th></th>\n",
       "      <th></th>\n",
       "      <th></th>\n",
       "      <th></th>\n",
       "      <th></th>\n",
       "      <th></th>\n",
       "      <th></th>\n",
       "      <th></th>\n",
       "      <th></th>\n",
       "      <th></th>\n",
       "      <th></th>\n",
       "      <th></th>\n",
       "      <th></th>\n",
       "      <th></th>\n",
       "      <th></th>\n",
       "      <th></th>\n",
       "      <th></th>\n",
       "      <th></th>\n",
       "    </tr>\n",
       "  </thead>\n",
       "  <tbody>\n",
       "    <tr>\n",
       "      <th>1</th>\n",
       "      <td>CA-2016-152156</td>\n",
       "      <td>11/8/2016</td>\n",
       "      <td>11/11/2016</td>\n",
       "      <td>Second Class</td>\n",
       "      <td>CG-12520</td>\n",
       "      <td>Claire Gute</td>\n",
       "      <td>Consumer</td>\n",
       "      <td>United States</td>\n",
       "      <td>Henderson</td>\n",
       "      <td>Kentucky</td>\n",
       "      <td>42420</td>\n",
       "      <td>South</td>\n",
       "      <td>FUR-BO-10001798</td>\n",
       "      <td>Furniture</td>\n",
       "      <td>Bookcases</td>\n",
       "      <td>Bush Somerset Collection Bookcase</td>\n",
       "      <td>261.9600</td>\n",
       "      <td>2</td>\n",
       "      <td>0.00</td>\n",
       "      <td>41.9136</td>\n",
       "    </tr>\n",
       "    <tr>\n",
       "      <th>2</th>\n",
       "      <td>CA-2016-152156</td>\n",
       "      <td>11/8/2016</td>\n",
       "      <td>11/11/2016</td>\n",
       "      <td>Second Class</td>\n",
       "      <td>CG-12520</td>\n",
       "      <td>Claire Gute</td>\n",
       "      <td>Consumer</td>\n",
       "      <td>United States</td>\n",
       "      <td>Henderson</td>\n",
       "      <td>Kentucky</td>\n",
       "      <td>42420</td>\n",
       "      <td>South</td>\n",
       "      <td>FUR-CH-10000454</td>\n",
       "      <td>Furniture</td>\n",
       "      <td>Chairs</td>\n",
       "      <td>Hon Deluxe Fabric Upholstered Stacking Chairs,...</td>\n",
       "      <td>731.9400</td>\n",
       "      <td>3</td>\n",
       "      <td>0.00</td>\n",
       "      <td>219.5820</td>\n",
       "    </tr>\n",
       "    <tr>\n",
       "      <th>3</th>\n",
       "      <td>CA-2016-138688</td>\n",
       "      <td>6/12/2016</td>\n",
       "      <td>6/16/2016</td>\n",
       "      <td>Second Class</td>\n",
       "      <td>DV-13045</td>\n",
       "      <td>Darrin Van Huff</td>\n",
       "      <td>Corporate</td>\n",
       "      <td>United States</td>\n",
       "      <td>Los Angeles</td>\n",
       "      <td>California</td>\n",
       "      <td>90036</td>\n",
       "      <td>West</td>\n",
       "      <td>OFF-LA-10000240</td>\n",
       "      <td>Office Supplies</td>\n",
       "      <td>Labels</td>\n",
       "      <td>Self-Adhesive Address Labels for Typewriters b...</td>\n",
       "      <td>14.6200</td>\n",
       "      <td>2</td>\n",
       "      <td>0.00</td>\n",
       "      <td>6.8714</td>\n",
       "    </tr>\n",
       "    <tr>\n",
       "      <th>4</th>\n",
       "      <td>US-2015-108966</td>\n",
       "      <td>10/11/2015</td>\n",
       "      <td>10/18/2015</td>\n",
       "      <td>Standard Class</td>\n",
       "      <td>SO-20335</td>\n",
       "      <td>Sean O'Donnell</td>\n",
       "      <td>Consumer</td>\n",
       "      <td>United States</td>\n",
       "      <td>Fort Lauderdale</td>\n",
       "      <td>Florida</td>\n",
       "      <td>33311</td>\n",
       "      <td>South</td>\n",
       "      <td>FUR-TA-10000577</td>\n",
       "      <td>Furniture</td>\n",
       "      <td>Tables</td>\n",
       "      <td>Bretford CR4500 Series Slim Rectangular Table</td>\n",
       "      <td>957.5775</td>\n",
       "      <td>5</td>\n",
       "      <td>0.45</td>\n",
       "      <td>-383.0310</td>\n",
       "    </tr>\n",
       "    <tr>\n",
       "      <th>5</th>\n",
       "      <td>US-2015-108966</td>\n",
       "      <td>10/11/2015</td>\n",
       "      <td>10/18/2015</td>\n",
       "      <td>Standard Class</td>\n",
       "      <td>SO-20335</td>\n",
       "      <td>Sean O'Donnell</td>\n",
       "      <td>Consumer</td>\n",
       "      <td>United States</td>\n",
       "      <td>Fort Lauderdale</td>\n",
       "      <td>Florida</td>\n",
       "      <td>33311</td>\n",
       "      <td>South</td>\n",
       "      <td>OFF-ST-10000760</td>\n",
       "      <td>Office Supplies</td>\n",
       "      <td>Storage</td>\n",
       "      <td>Eldon Fold 'N Roll Cart System</td>\n",
       "      <td>22.3680</td>\n",
       "      <td>2</td>\n",
       "      <td>0.20</td>\n",
       "      <td>2.5164</td>\n",
       "    </tr>\n",
       "  </tbody>\n",
       "</table>\n",
       "</div>"
      ],
      "text/plain": [
       "              Order ID  Order Date   Ship Date       Ship Mode Customer ID  \\\n",
       "Row ID                                                                       \n",
       "1       CA-2016-152156   11/8/2016  11/11/2016    Second Class    CG-12520   \n",
       "2       CA-2016-152156   11/8/2016  11/11/2016    Second Class    CG-12520   \n",
       "3       CA-2016-138688   6/12/2016   6/16/2016    Second Class    DV-13045   \n",
       "4       US-2015-108966  10/11/2015  10/18/2015  Standard Class    SO-20335   \n",
       "5       US-2015-108966  10/11/2015  10/18/2015  Standard Class    SO-20335   \n",
       "\n",
       "          Customer Name    Segment        Country             City  \\\n",
       "Row ID                                                               \n",
       "1           Claire Gute   Consumer  United States        Henderson   \n",
       "2           Claire Gute   Consumer  United States        Henderson   \n",
       "3       Darrin Van Huff  Corporate  United States      Los Angeles   \n",
       "4        Sean O'Donnell   Consumer  United States  Fort Lauderdale   \n",
       "5        Sean O'Donnell   Consumer  United States  Fort Lauderdale   \n",
       "\n",
       "             State  Postal Code Region       Product ID         Category  \\\n",
       "Row ID                                                                     \n",
       "1         Kentucky        42420  South  FUR-BO-10001798        Furniture   \n",
       "2         Kentucky        42420  South  FUR-CH-10000454        Furniture   \n",
       "3       California        90036   West  OFF-LA-10000240  Office Supplies   \n",
       "4          Florida        33311  South  FUR-TA-10000577        Furniture   \n",
       "5          Florida        33311  South  OFF-ST-10000760  Office Supplies   \n",
       "\n",
       "       Sub-Category                                       Product Name  \\\n",
       "Row ID                                                                   \n",
       "1         Bookcases                  Bush Somerset Collection Bookcase   \n",
       "2            Chairs  Hon Deluxe Fabric Upholstered Stacking Chairs,...   \n",
       "3            Labels  Self-Adhesive Address Labels for Typewriters b...   \n",
       "4            Tables      Bretford CR4500 Series Slim Rectangular Table   \n",
       "5           Storage                     Eldon Fold 'N Roll Cart System   \n",
       "\n",
       "           Sales  Quantity  Discount    Profit  \n",
       "Row ID                                          \n",
       "1       261.9600         2      0.00   41.9136  \n",
       "2       731.9400         3      0.00  219.5820  \n",
       "3        14.6200         2      0.00    6.8714  \n",
       "4       957.5775         5      0.45 -383.0310  \n",
       "5        22.3680         2      0.20    2.5164  "
      ]
     },
     "execution_count": 53,
     "metadata": {},
     "output_type": "execute_result"
    }
   ],
   "source": [
    "print(\"Extracting raw data...\")\n",
    "superstore_data = pd.read_csv(RAW_PATH,encoding='ISO-8859-1', index_col=\"Row ID\")\n",
    "superstore_data.head()"
   ]
  },
  {
   "cell_type": "code",
   "execution_count": 60,
   "id": "e0972f44",
   "metadata": {},
   "outputs": [
    {
     "name": "stdout",
     "output_type": "stream",
     "text": [
      "\n",
      "Initial Overview:\n",
      "Shape of dataset: (9993, 20)\n"
     ]
    }
   ],
   "source": [
    "# Dataset overview\n",
    "print(\"\\nInitial Overview:\")\n",
    "print(\"Shape of dataset:\", superstore_data.shape)"
   ]
  },
  {
   "cell_type": "markdown",
   "id": "0d3fadf4",
   "metadata": {},
   "source": [
    "### *Dataset Metadata – Superstore Sales*\n",
    "\n",
    "- `Row ID` – *Unique ID for each row.*\n",
    "- `Order ID` – *Unique Order ID for each customer.*\n",
    "- `Order Date` – *Date when the product was ordered.*\n",
    "- `Ship Date` – *Date when the product was shipped.*\n",
    "- `Ship Mode` – *Shipping mode selected by the customer.*\n",
    "- `Customer ID` – *Unique ID used to identify each customer.*\n",
    "- `Customer Name` – *Name of the customer.*\n",
    "- `Segment` – *Customer segment (e.g., Consumer, Corporate, Home Office).*\n",
    "- `Country` – *Country where the customer resides.*\n",
    "- `City` – *City where the customer resides.*\n",
    "- `State` – *State where the customer resides.*\n",
    "- `Postal Code` – *Postal code of the customer's address.*\n",
    "- `Region` – *Region the customer belongs to (e.g., East, West).*\n",
    "- `Product ID` – *Unique identifier for the product.*\n",
    "- `Category` – *Category of the product (e.g., Furniture, Technology).*\n",
    "- `Sub-Category` – *Sub-category of the product.*\n",
    "- `Product Name` – *Name or title of the product ordered.*\n",
    "- `Sales` – *Total sales value of the product.*\n",
    "- `Quantity` – *Number of product units ordered.*\n",
    "- `Discount` – *Discount applied on the product.*\n",
    "- `Profit` – *Profit or loss incurred from the sale.*\n",
    "\n"
   ]
  },
  {
   "cell_type": "code",
   "execution_count": 52,
   "id": "9ef1b0fd",
   "metadata": {},
   "outputs": [
    {
     "name": "stdout",
     "output_type": "stream",
     "text": [
      "<class 'pandas.core.frame.DataFrame'>\n",
      "RangeIndex: 9994 entries, 0 to 9993\n",
      "Data columns (total 21 columns):\n",
      " #   Column         Non-Null Count  Dtype  \n",
      "---  ------         --------------  -----  \n",
      " 0   Row ID         9994 non-null   int64  \n",
      " 1   Order ID       9994 non-null   object \n",
      " 2   Order Date     9994 non-null   object \n",
      " 3   Ship Date      9994 non-null   object \n",
      " 4   Ship Mode      9994 non-null   object \n",
      " 5   Customer ID    9994 non-null   object \n",
      " 6   Customer Name  9994 non-null   object \n",
      " 7   Segment        9994 non-null   object \n",
      " 8   Country        9994 non-null   object \n",
      " 9   City           9994 non-null   object \n",
      " 10  State          9994 non-null   object \n",
      " 11  Postal Code    9994 non-null   int64  \n",
      " 12  Region         9994 non-null   object \n",
      " 13  Product ID     9994 non-null   object \n",
      " 14  Category       9994 non-null   object \n",
      " 15  Sub-Category   9994 non-null   object \n",
      " 16  Product Name   9994 non-null   object \n",
      " 17  Sales          9994 non-null   float64\n",
      " 18  Quantity       9994 non-null   int64  \n",
      " 19  Discount       9994 non-null   float64\n",
      " 20  Profit         9994 non-null   float64\n",
      "dtypes: float64(3), int64(3), object(15)\n",
      "memory usage: 1.6+ MB\n"
     ]
    }
   ],
   "source": [
    "superstore_data.info()"
   ]
  },
  {
   "cell_type": "markdown",
   "id": "a0a17769",
   "metadata": {},
   "source": [
    "#### *Structure Overview*\n",
    "\n",
    "*After loading the dataset, we use `.info()` to understand the structure:*\n",
    "\n",
    "- *The dataset contains **9,994 rows** and **21 columns**.*\n",
    "- *All columns have **complete data** — no missing values.*\n",
    "- *The data types show a mix of:*\n",
    "  - ***Object** types for categorical and string data*\n",
    "  - ***Integer** for quantities like Postal Code and Quantity*\n",
    "  - ***Float** for Sales, Discount, and Profit*\n"
   ]
  },
  {
   "cell_type": "markdown",
   "id": "5fa873f1",
   "metadata": {},
   "source": [
    "### *Data_Cleaning*\n",
    "in this code i am cleaning the dataset by looking for any missing values, duplicates and then droping them. I also renamed the columns.\n",
    " "
   ]
  },
  {
   "cell_type": "code",
   "execution_count": 55,
   "id": "022c4b46",
   "metadata": {},
   "outputs": [
    {
     "data": {
      "text/plain": [
       "0"
      ]
     },
     "execution_count": 55,
     "metadata": {},
     "output_type": "execute_result"
    }
   ],
   "source": [
    "#checking for d+uplicates\n",
    "superstore_data.duplicated().sum()"
   ]
  },
  {
   "cell_type": "code",
   "execution_count": 56,
   "id": "9dcc9cf6",
   "metadata": {},
   "outputs": [],
   "source": [
    "# Remove duplicate row\n",
    "superstore_data.drop_duplicates(inplace=True)"
   ]
  },
  {
   "cell_type": "code",
   "execution_count": 57,
   "id": "a4ae5b94",
   "metadata": {},
   "outputs": [
    {
     "name": "stdout",
     "output_type": "stream",
     "text": [
      "Order ID         0\n",
      "Order Date       0\n",
      "Ship Date        0\n",
      "Ship Mode        0\n",
      "Customer ID      0\n",
      "Customer Name    0\n",
      "Segment          0\n",
      "Country          0\n",
      "City             0\n",
      "State            0\n",
      "Postal Code      0\n",
      "Region           0\n",
      "Product ID       0\n",
      "Category         0\n",
      "Sub-Category     0\n",
      "Product Name     0\n",
      "Sales            0\n",
      "Quantity         0\n",
      "Discount         0\n",
      "Profit           0\n",
      "dtype: int64\n"
     ]
    }
   ],
   "source": [
    "#checking for null values\n",
    "print(superstore_data.isnull().sum())"
   ]
  },
  {
   "cell_type": "code",
   "execution_count": 58,
   "id": "7b75458d",
   "metadata": {},
   "outputs": [],
   "source": [
    "# Drop duplicate rows\n",
    "superstore_data.drop_duplicates(inplace=True)\n",
    "\n",
    "# Convert 'Order Date' and 'Ship Date' to datetime\n",
    "superstore_data['Order Date'] = pd.to_datetime(superstore_data['Order Date'])\n",
    "superstore_data['Ship Date'] = pd.to_datetime(superstore_data['Ship Date'])\n",
    "\n",
    "# Convert selected object columns to category\n",
    "categorical_cols = [\n",
    "    \"Ship Mode\", \"Segment\", \"Region\", \"Category\", \"Sub-Category\", \"State\"\n",
    "]\n",
    "\n",
    "for col in categorical_cols:\n",
    "    superstore_data[col] = superstore_data[col].astype(\"category\")\n"
   ]
  },
  {
   "cell_type": "code",
   "execution_count": null,
   "id": "f5fde0fa",
   "metadata": {},
   "outputs": [
    {
     "name": "stdout",
     "output_type": "stream",
     "text": [
      "\n",
      "Missing Values Summary:\n",
      "Row_ID           0\n",
      "Order_ID         0\n",
      "Order_Date       0\n",
      "Ship_Date        0\n",
      "Ship_Mode        0\n",
      "Customer_ID      0\n",
      "Customer_Name    0\n",
      "Segment          0\n",
      "Country          0\n",
      "City             0\n",
      "State            0\n",
      "Postal_Code      0\n",
      "Region           0\n",
      "Product_ID       0\n",
      "Category         0\n",
      "Sub_Category     0\n",
      "Product_Name     0\n",
      "Sales            0\n",
      "Quantity         0\n",
      "Discount         0\n",
      "Profit           0\n",
      "dtype: int64\n",
      "\n",
      "Removed 0 duplicate rows.\n"
     ]
    }
   ],
   "source": [
    "# df = df_raw.copy()\n",
    "# df.columns = df.columns.str.strip().str.replace(\" \", \"_\").str.replace(\"-\", \"_\")\n",
    "\n",
    "# print(\"\\nMissing Values Summary:\")\n",
    "# print(df.isnull().sum())\n",
    "\n",
    "\n",
    "# df.dropna(subset=[\"Order_ID\", \"Order_Date\", \"Sales\", \"Profit\"], inplace=True)\n",
    "\n",
    "\n",
    "# initial_shape = df.shape\n",
    "# df.drop_duplicates(inplace=True)\n",
    "# print(f\"\\nRemoved {initial_shape[0] - df.shape[0]} duplicate rows.\")"
   ]
  },
  {
   "cell_type": "markdown",
   "id": "69f52042",
   "metadata": {},
   "source": [
    "### *Transformation*\n",
    "\n",
    "Now I apply the following transformations to improve data quality and structure:\n",
    "1. **Date Conversion**: Convert `Order_Date` and `Ship_Date` to datetime objects.\n",
    "2. **Numeric Conversion**: Ensure columns like `Sales`, `Profit`, `Quantity`, and `Discount` are treated as numeric types.\n",
    "3. **Text Standardization**: Standardize text fields such as `Customer_Name`, `City`, and `State` using `.str.title()`.\n",
    "4. **Enrichment**: I create a new column called `Profit_Margin` by dividing `Profit` by `Sales`, which helps in later if we do financial analysis.\n",
    "\n",
    "These transformations will help downstream processes like mining and visualization.\n"
   ]
  },
  {
   "cell_type": "code",
   "execution_count": 41,
   "id": "2062286e",
   "metadata": {},
   "outputs": [
    {
     "name": "stdout",
     "output_type": "stream",
     "text": [
      "\n",
      "Cleaned data saved to data/superstore_transformed.csv\n"
     ]
    }
   ],
   "source": [
    "\n",
    "df[\"Order_Date\"] = pd.to_datetime(df[\"Order_Date\"], errors=\"coerce\")\n",
    "df[\"Ship_Date\"] = pd.to_datetime(df[\"Ship_Date\"], errors=\"coerce\")\n",
    "\n",
    "numeric_cols = [\"Sales\", \"Quantity\", \"Discount\", \"Profit\"]\n",
    "df[numeric_cols] = df[numeric_cols].apply(pd.to_numeric, errors=\"coerce\")\n",
    "\n",
    "df[\"Customer_Name\"] = df[\"Customer_Name\"].str.title()\n",
    "df[\"City\"] = df[\"City\"].str.title()\n",
    "df[\"State\"] = df[\"State\"].str.title()\n",
    "\n",
    "df[\"Profit_Margin\"] = (df[\"Profit\"] / df[\"Sales\"]).round(2).replace([float('inf'), -float('inf')], pd.NA)\n",
    "\n",
    "df.to_csv(TRANSFORMED_PATH, index=False)\n",
    "print(f\"\\nCleaned data saved to {TRANSFORMED_PATH}\")"
   ]
  },
  {
   "cell_type": "markdown",
   "id": "38f72a62",
   "metadata": {},
   "source": [
    "### *loading the dataset*\n",
    "in this cell i load the datset using sqlite3 and save the db file."
   ]
  },
  {
   "cell_type": "code",
   "execution_count": 42,
   "id": "a1a90206",
   "metadata": {},
   "outputs": [
    {
     "name": "stdout",
     "output_type": "stream",
     "text": [
      "SQLite DB saved to data/superstore_final.db\n",
      "\n",
      "ETL pipeline complete.\n"
     ]
    }
   ],
   "source": [
    "conn = sqlite3.connect(FINAL_DB_PATH)\n",
    "df.to_sql(TABLE_NAME, conn, if_exists=\"replace\", index=False)\n",
    "conn.close()\n",
    "\n",
    "print(f\"SQLite DB saved to {FINAL_DB_PATH}\")\n",
    "\n",
    "print(\"\\nETL pipeline complete.\")"
   ]
  }
 ],
 "metadata": {
  "kernelspec": {
   "display_name": "Python 3",
   "language": "python",
   "name": "python3"
  },
  "language_info": {
   "codemirror_mode": {
    "name": "ipython",
    "version": 3
   },
   "file_extension": ".py",
   "mimetype": "text/x-python",
   "name": "python",
   "nbconvert_exporter": "python",
   "pygments_lexer": "ipython3",
   "version": "3.12.10"
  }
 },
 "nbformat": 4,
 "nbformat_minor": 5
}
